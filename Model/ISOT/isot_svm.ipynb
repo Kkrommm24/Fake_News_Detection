{
 "cells": [
  {
   "cell_type": "code",
   "execution_count": 12,
   "metadata": {},
   "outputs": [
    {
     "name": "stderr",
     "output_type": "stream",
     "text": [
      "[nltk_data] Downloading package stopwords to\n",
      "[nltk_data]     C:\\Users\\draxe\\AppData\\Roaming\\nltk_data...\n",
      "[nltk_data]   Package stopwords is already up-to-date!\n",
      "[nltk_data] Downloading package wordnet to\n",
      "[nltk_data]     C:\\Users\\draxe\\AppData\\Roaming\\nltk_data...\n",
      "[nltk_data]   Package wordnet is already up-to-date!\n",
      "[nltk_data] Downloading package omw-1.4 to\n",
      "[nltk_data]     C:\\Users\\draxe\\AppData\\Roaming\\nltk_data...\n",
      "[nltk_data]   Package omw-1.4 is already up-to-date!\n",
      "[nltk_data] Downloading package punkt to\n",
      "[nltk_data]     C:\\Users\\draxe\\AppData\\Roaming\\nltk_data...\n",
      "[nltk_data]   Package punkt is already up-to-date!\n"
     ]
    }
   ],
   "source": [
    "import os\n",
    "import pandas as pd\n",
    "import re\n",
    "import nltk\n",
    "import contractions\n",
    "from nltk.corpus import stopwords\n",
    "from nltk.stem import WordNetLemmatizer\n",
    "from nltk.tokenize import word_tokenize\n",
    "nltk.download('stopwords')\n",
    "nltk.download('wordnet')\n",
    "nltk.download('omw-1.4')  # Downloading the required wordnet data\n",
    "nltk.download('punkt')\n",
    "from langdetect import detect"
   ]
  },
  {
   "cell_type": "code",
   "execution_count": 13,
   "metadata": {},
   "outputs": [],
   "source": [
    "stop_words = set(stopwords.words('english'))\n",
    "def remove_stopwords(text):\n",
    "    stop_words = set(stopwords.words('english'))\n",
    "    return ' '.join([word for word in text.split() if word not in stop_words])\n",
    "def tokenize_text(text):\n",
    "    return word_tokenize(text)"
   ]
  },
  {
   "cell_type": "code",
   "execution_count": 14,
   "metadata": {},
   "outputs": [],
   "source": [
    "def preprocess(df):\n",
    "    # Convert 'combined_text' column to strings\n",
    "    df['combined_text'] = df['combined_text'].astype(str)\n",
    "    \n",
    "    # Lowercase\n",
    "    df['combined_text'] = df['combined_text'].str.lower()\n",
    "\n",
    "    # Expanding Contractions\n",
    "    df['combined_text'] = df['combined_text'].apply(lambda x: contractions.fix(x))\n",
    "\n",
    "    # Removing the URLs\n",
    "    df['combined_text'] = df['combined_text'].apply(lambda x: re.sub(r'http\\S+|www\\S+|https\\S+', '', x, flags=re.MULTILINE))\n",
    "\n",
    "    # Removing the HTML tags\n",
    "    df['combined_text'] = df['combined_text'].apply(lambda x: re.sub(r'<.*?>', '', x))\n",
    "\n",
    "    # Removing the numbers\n",
    "    df['combined_text'] = df['combined_text'].apply(lambda x: re.sub(r'\\d+', '', x))\n",
    "\n",
    "    # Removing the extra whitespaces\n",
    "    df['combined_text'] = df['combined_text'].apply(lambda x: x.strip())\n",
    "\n",
    "    # Removing the punctuation\n",
    "    df['combined_text'] = df['combined_text'].apply(lambda x: re.sub(r'[^\\w\\s]', '', x))\n",
    "\n",
    "    # Removing the stopwords\n",
    "    df['combined_text'] = df['combined_text'].apply(remove_stopwords)\n",
    "\n",
    "    # Tokenization\n",
    "    df['combined_text'] = df['combined_text'].apply(tokenize_text)\n",
    "\n",
    "    return df"
   ]
  },
  {
   "cell_type": "markdown",
   "metadata": {},
   "source": [
    "# SVM"
   ]
  },
  {
   "cell_type": "code",
   "execution_count": 15,
   "metadata": {},
   "outputs": [],
   "source": [
    "import os\n",
    "import pandas as pd\n",
    "import re\n",
    "import contractions\n",
    "from langdetect import detect"
   ]
  },
  {
   "cell_type": "code",
   "execution_count": 16,
   "metadata": {},
   "outputs": [],
   "source": [
    "from sklearn.feature_extraction.text import TfidfVectorizer\n",
    "from sklearn import svm\n",
    "from sklearn.metrics import accuracy_score, f1_score, classification_report\n",
    "from sklearn.model_selection import GridSearchCV\n",
    "from sklearn.model_selection import StratifiedKFold"
   ]
  },
  {
   "cell_type": "code",
   "execution_count": 17,
   "metadata": {},
   "outputs": [],
   "source": [
    "train = pd.read_csv('..\\\\..\\\\Dataset_Cleaned\\\\ISOT\\\\clean_train_isot.csv')"
   ]
  },
  {
   "cell_type": "code",
   "execution_count": 18,
   "metadata": {},
   "outputs": [],
   "source": [
    "train = preprocess(train)"
   ]
  },
  {
   "cell_type": "code",
   "execution_count": 19,
   "metadata": {},
   "outputs": [],
   "source": [
    "X_train = train['combined_text']\n",
    "y_train = train['label']"
   ]
  },
  {
   "cell_type": "code",
   "execution_count": 20,
   "metadata": {},
   "outputs": [
    {
     "data": {
      "text/plain": [
       "0    [conservative, terrorist, given, insanely, lig...\n",
       "1    [clinton, ad, slam, trump, disgusting, insult,...\n",
       "2    [hardliner, protest, french, labor, reform, ma...\n",
       "3    [nba, kowtow, racist, order, player, stand, an...\n",
       "4    [ben, carson, praise, time, trump, compared, c...\n",
       "Name: combined_text, dtype: object"
      ]
     },
     "execution_count": 20,
     "metadata": {},
     "output_type": "execute_result"
    }
   ],
   "source": [
    "X_train.head()"
   ]
  },
  {
   "cell_type": "code",
   "execution_count": 21,
   "metadata": {},
   "outputs": [],
   "source": [
    "X_train = pd.Series(X_train)\n",
    "X_train = X_train.astype(str)"
   ]
  },
  {
   "cell_type": "code",
   "execution_count": 23,
   "metadata": {},
   "outputs": [
    {
     "name": "stdout",
     "output_type": "stream",
     "text": [
      "Fitting 10 folds for each of 1 candidates, totalling 10 fits\n",
      "Best Score:  0.9931331519777908\n",
      "Best Parameters:  {'clf': SVC(), 'clf__C': 10, 'clf__gamma': 0.1, 'clf__kernel': 'rbf'}\n"
     ]
    }
   ],
   "source": [
    "from sklearn.model_selection import GridSearchCV\n",
    "from sklearn.svm import SVC\n",
    "from sklearn.feature_extraction.text import TfidfVectorizer\n",
    "from sklearn.pipeline import Pipeline\n",
    "from sklearn.model_selection import StratifiedKFold\n",
    "\n",
    "# Define a pipeline combining a text feature extractor with a simple classifier\n",
    "pipeline = Pipeline([\n",
    "    ('tfidf', TfidfVectorizer()),\n",
    "    ('clf', SVC()),\n",
    "])\n",
    "\n",
    "# Define the grid parameters\n",
    "params = [\n",
    "    {\n",
    "        'clf': [SVC()],\n",
    "        'clf__C': [10],  # Regularization parameter\n",
    "        'clf__kernel': ['rbf'],  # Kernel type\n",
    "        'clf__gamma': [0.1]  # Kernel coefficient\n",
    "    }\n",
    "]\n",
    "\n",
    "# Create a StratifiedKFold object\n",
    "stratified_kfold = StratifiedKFold(n_splits=10)\n",
    "\n",
    "# Create the grid search object\n",
    "grid_search = GridSearchCV(pipeline, params, cv=stratified_kfold, n_jobs=-1, refit=True, verbose=2)\n",
    "\n",
    "# Fit the grid search object to the data to compute the optimal model\n",
    "grid_search.fit(X_train, y_train)\n",
    "\n",
    "# Print the best score and the best parameters\n",
    "print(\"Best Score: \", grid_search.best_score_)\n",
    "print(\"Best Parameters: \", grid_search.best_params_)"
   ]
  },
  {
   "cell_type": "code",
   "execution_count": 24,
   "metadata": {},
   "outputs": [],
   "source": [
    "clf = grid_search.best_estimator_"
   ]
  },
  {
   "cell_type": "code",
   "execution_count": 25,
   "metadata": {},
   "outputs": [
    {
     "name": "stdout",
     "output_type": "stream",
     "text": [
      "              precision    recall  f1-score   support\n",
      "\n",
      "           0       1.00      1.00      1.00     16933\n",
      "           1       1.00      1.00      1.00     13940\n",
      "\n",
      "    accuracy                           1.00     30873\n",
      "   macro avg       1.00      1.00      1.00     30873\n",
      "weighted avg       1.00      1.00      1.00     30873\n",
      "\n"
     ]
    }
   ],
   "source": [
    "# Training performance\n",
    "y_train_pred = clf.predict(X_train)\n",
    "print(classification_report(y_train, y_train_pred))"
   ]
  },
  {
   "cell_type": "markdown",
   "metadata": {},
   "source": [
    "# Submit test prediction"
   ]
  },
  {
   "cell_type": "code",
   "execution_count": 26,
   "metadata": {},
   "outputs": [],
   "source": [
    "test = pd.read_csv('..\\\\..\\\\Dataset_Cleaned\\\\ISOT\\\\clean_test_isot.csv')"
   ]
  },
  {
   "cell_type": "code",
   "execution_count": 27,
   "metadata": {},
   "outputs": [],
   "source": [
    "test = preprocess(test)"
   ]
  },
  {
   "cell_type": "code",
   "execution_count": 28,
   "metadata": {},
   "outputs": [],
   "source": [
    "test = test.fillna(' ')\n",
    "X_test = test['combined_text'].apply(' '.join)\n",
    "test\n",
    "y_test = test['label']\n",
    "y_test_pred = clf.predict(X_test)"
   ]
  },
  {
   "cell_type": "code",
   "execution_count": 29,
   "metadata": {},
   "outputs": [
    {
     "name": "stdout",
     "output_type": "stream",
     "text": [
      "              precision    recall  f1-score   support\n",
      "\n",
      "           0       0.99      0.99      0.99      4258\n",
      "           1       0.99      0.99      0.99      3461\n",
      "\n",
      "    accuracy                           0.99      7719\n",
      "   macro avg       0.99      0.99      0.99      7719\n",
      "weighted avg       0.99      0.99      0.99      7719\n",
      "\n"
     ]
    }
   ],
   "source": [
    "print(classification_report(y_test, y_test_pred))"
   ]
  },
  {
   "cell_type": "code",
   "execution_count": 31,
   "metadata": {},
   "outputs": [
    {
     "name": "stdout",
     "output_type": "stream",
     "text": [
      "[[4235   23]\n",
      " [  45 3416]]\n"
     ]
    }
   ],
   "source": [
    "from sklearn.metrics import confusion_matrix\n",
    "print(confusion_matrix(y_test, y_test_pred))"
   ]
  }
 ],
 "metadata": {
  "kernelspec": {
   "display_name": "fakenews",
   "language": "python",
   "name": "python3"
  },
  "language_info": {
   "codemirror_mode": {
    "name": "ipython",
    "version": 3
   },
   "file_extension": ".py",
   "mimetype": "text/x-python",
   "name": "python",
   "nbconvert_exporter": "python",
   "pygments_lexer": "ipython3",
   "version": "3.12.3"
  }
 },
 "nbformat": 4,
 "nbformat_minor": 2
}
