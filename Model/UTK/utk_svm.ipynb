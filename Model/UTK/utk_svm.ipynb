{
 "cells": [
  {
   "cell_type": "code",
   "execution_count": 1,
   "id": "4275b45b",
   "metadata": {
    "_cell_guid": "b1076dfc-b9ad-4769-8c92-a6c4dae69d19",
    "_uuid": "8f2839f25d086af736a60e9eeb907d3b93b6e0e5",
    "execution": {
     "iopub.execute_input": "2024-05-14T04:17:14.461160Z",
     "iopub.status.busy": "2024-05-14T04:17:14.460801Z",
     "iopub.status.idle": "2024-05-14T04:17:15.504881Z",
     "shell.execute_reply": "2024-05-14T04:17:15.503529Z"
    },
    "papermill": {
     "duration": 1.055154,
     "end_time": "2024-05-14T04:17:15.507563",
     "exception": false,
     "start_time": "2024-05-14T04:17:14.452409",
     "status": "completed"
    },
    "tags": []
   },
   "outputs": [
    {
     "name": "stdout",
     "output_type": "stream",
     "text": [
      "/kaggle/input/fake-news/submit.csv\n",
      "/kaggle/input/fake-news/train.csv\n",
      "/kaggle/input/fake-news/test.csv\n"
     ]
    }
   ],
   "source": [
    "# This Python 3 environment comes with many helpful analytics libraries installed\n",
    "# It is defined by the kaggle/python Docker image: https://github.com/kaggle/docker-python\n",
    "# For example, here's several helpful packages to load\n",
    "\n",
    "import numpy as np # linear algebra\n",
    "import pandas as pd # data processing, CSV file I/O (e.g. pd.read_csv)\n",
    "\n",
    "# Input data files are available in the read-only \"../input/\" directory\n",
    "# For example, running this (by clicking run or pressing Shift+Enter) will list all files under the input directory\n",
    "\n",
    "import os\n",
    "for dirname, _, filenames in os.walk('/kaggle/input'):\n",
    "    for filename in filenames:\n",
    "        print(os.path.join(dirname, filename))\n",
    "\n",
    "# You can write up to 20GB to the current directory (/kaggle/working/) that gets preserved as output when you create a version using \"Save & Run All\" \n",
    "# You can also write temporary files to /kaggle/temp/, but they won't be saved outside of the current session"
   ]
  },
  {
   "cell_type": "code",
   "execution_count": 2,
   "id": "fdcefe34",
   "metadata": {
    "execution": {
     "iopub.execute_input": "2024-05-14T04:17:15.521103Z",
     "iopub.status.busy": "2024-05-14T04:17:15.520661Z",
     "iopub.status.idle": "2024-05-14T04:17:19.016405Z",
     "shell.execute_reply": "2024-05-14T04:17:19.014952Z"
    },
    "papermill": {
     "duration": 3.505687,
     "end_time": "2024-05-14T04:17:19.019403",
     "exception": false,
     "start_time": "2024-05-14T04:17:15.513716",
     "status": "completed"
    },
    "tags": []
   },
   "outputs": [],
   "source": [
    "# Load data\n",
    "train = pd.read_csv('/kaggle/input/fake-news/train.csv')\n",
    "test = pd.read_csv('/kaggle/input/fake-news/test.csv')"
   ]
  },
  {
   "cell_type": "markdown",
   "id": "fcb96594",
   "metadata": {
    "papermill": {
     "duration": 0.005166,
     "end_time": "2024-05-14T04:17:19.030113",
     "exception": false,
     "start_time": "2024-05-14T04:17:19.024947",
     "status": "completed"
    },
    "tags": []
   },
   "source": [
    "# Data explore"
   ]
  },
  {
   "cell_type": "code",
   "execution_count": 3,
   "id": "4670f7d6",
   "metadata": {
    "execution": {
     "iopub.execute_input": "2024-05-14T04:17:19.043598Z",
     "iopub.status.busy": "2024-05-14T04:17:19.042922Z",
     "iopub.status.idle": "2024-05-14T04:17:19.066054Z",
     "shell.execute_reply": "2024-05-14T04:17:19.064753Z"
    },
    "papermill": {
     "duration": 0.032621,
     "end_time": "2024-05-14T04:17:19.068251",
     "exception": false,
     "start_time": "2024-05-14T04:17:19.035630",
     "status": "completed"
    },
    "tags": []
   },
   "outputs": [
    {
     "data": {
      "text/html": [
       "<div>\n",
       "<style scoped>\n",
       "    .dataframe tbody tr th:only-of-type {\n",
       "        vertical-align: middle;\n",
       "    }\n",
       "\n",
       "    .dataframe tbody tr th {\n",
       "        vertical-align: top;\n",
       "    }\n",
       "\n",
       "    .dataframe thead th {\n",
       "        text-align: right;\n",
       "    }\n",
       "</style>\n",
       "<table border=\"1\" class=\"dataframe\">\n",
       "  <thead>\n",
       "    <tr style=\"text-align: right;\">\n",
       "      <th></th>\n",
       "      <th>id</th>\n",
       "      <th>title</th>\n",
       "      <th>author</th>\n",
       "      <th>text</th>\n",
       "      <th>label</th>\n",
       "    </tr>\n",
       "  </thead>\n",
       "  <tbody>\n",
       "    <tr>\n",
       "      <th>0</th>\n",
       "      <td>0</td>\n",
       "      <td>House Dem Aide: We Didn’t Even See Comey’s Let...</td>\n",
       "      <td>Darrell Lucus</td>\n",
       "      <td>House Dem Aide: We Didn’t Even See Comey’s Let...</td>\n",
       "      <td>1</td>\n",
       "    </tr>\n",
       "    <tr>\n",
       "      <th>1</th>\n",
       "      <td>1</td>\n",
       "      <td>FLYNN: Hillary Clinton, Big Woman on Campus - ...</td>\n",
       "      <td>Daniel J. Flynn</td>\n",
       "      <td>Ever get the feeling your life circles the rou...</td>\n",
       "      <td>0</td>\n",
       "    </tr>\n",
       "    <tr>\n",
       "      <th>2</th>\n",
       "      <td>2</td>\n",
       "      <td>Why the Truth Might Get You Fired</td>\n",
       "      <td>Consortiumnews.com</td>\n",
       "      <td>Why the Truth Might Get You Fired October 29, ...</td>\n",
       "      <td>1</td>\n",
       "    </tr>\n",
       "    <tr>\n",
       "      <th>3</th>\n",
       "      <td>3</td>\n",
       "      <td>15 Civilians Killed In Single US Airstrike Hav...</td>\n",
       "      <td>Jessica Purkiss</td>\n",
       "      <td>Videos 15 Civilians Killed In Single US Airstr...</td>\n",
       "      <td>1</td>\n",
       "    </tr>\n",
       "    <tr>\n",
       "      <th>4</th>\n",
       "      <td>4</td>\n",
       "      <td>Iranian woman jailed for fictional unpublished...</td>\n",
       "      <td>Howard Portnoy</td>\n",
       "      <td>Print \\nAn Iranian woman has been sentenced to...</td>\n",
       "      <td>1</td>\n",
       "    </tr>\n",
       "  </tbody>\n",
       "</table>\n",
       "</div>"
      ],
      "text/plain": [
       "   id                                              title              author  \\\n",
       "0   0  House Dem Aide: We Didn’t Even See Comey’s Let...       Darrell Lucus   \n",
       "1   1  FLYNN: Hillary Clinton, Big Woman on Campus - ...     Daniel J. Flynn   \n",
       "2   2                  Why the Truth Might Get You Fired  Consortiumnews.com   \n",
       "3   3  15 Civilians Killed In Single US Airstrike Hav...     Jessica Purkiss   \n",
       "4   4  Iranian woman jailed for fictional unpublished...      Howard Portnoy   \n",
       "\n",
       "                                                text  label  \n",
       "0  House Dem Aide: We Didn’t Even See Comey’s Let...      1  \n",
       "1  Ever get the feeling your life circles the rou...      0  \n",
       "2  Why the Truth Might Get You Fired October 29, ...      1  \n",
       "3  Videos 15 Civilians Killed In Single US Airstr...      1  \n",
       "4  Print \\nAn Iranian woman has been sentenced to...      1  "
      ]
     },
     "execution_count": 3,
     "metadata": {},
     "output_type": "execute_result"
    }
   ],
   "source": [
    "train.head()"
   ]
  },
  {
   "cell_type": "code",
   "execution_count": 4,
   "id": "ca2db50d",
   "metadata": {
    "execution": {
     "iopub.execute_input": "2024-05-14T04:17:19.081272Z",
     "iopub.status.busy": "2024-05-14T04:17:19.080889Z",
     "iopub.status.idle": "2024-05-14T04:17:19.095329Z",
     "shell.execute_reply": "2024-05-14T04:17:19.093283Z"
    },
    "papermill": {
     "duration": 0.024318,
     "end_time": "2024-05-14T04:17:19.098256",
     "exception": false,
     "start_time": "2024-05-14T04:17:19.073938",
     "status": "completed"
    },
    "tags": []
   },
   "outputs": [
    {
     "name": "stdout",
     "output_type": "stream",
     "text": [
      "label\n",
      "1    10413\n",
      "0    10387\n",
      "Name: count, dtype: int64\n"
     ]
    }
   ],
   "source": [
    "print(train['label'].value_counts())"
   ]
  },
  {
   "cell_type": "code",
   "execution_count": 5,
   "id": "7af58d02",
   "metadata": {
    "execution": {
     "iopub.execute_input": "2024-05-14T04:17:19.112572Z",
     "iopub.status.busy": "2024-05-14T04:17:19.111794Z",
     "iopub.status.idle": "2024-05-14T04:17:19.130088Z",
     "shell.execute_reply": "2024-05-14T04:17:19.128414Z"
    },
    "papermill": {
     "duration": 0.02818,
     "end_time": "2024-05-14T04:17:19.132779",
     "exception": false,
     "start_time": "2024-05-14T04:17:19.104599",
     "status": "completed"
    },
    "tags": []
   },
   "outputs": [
    {
     "data": {
      "text/plain": [
       "id           0\n",
       "title      558\n",
       "author    1957\n",
       "text        39\n",
       "label        0\n",
       "dtype: int64"
      ]
     },
     "execution_count": 5,
     "metadata": {},
     "output_type": "execute_result"
    }
   ],
   "source": [
    "train.isnull().sum()"
   ]
  },
  {
   "cell_type": "code",
   "execution_count": 6,
   "id": "7ed47d92",
   "metadata": {
    "execution": {
     "iopub.execute_input": "2024-05-14T04:17:19.147367Z",
     "iopub.status.busy": "2024-05-14T04:17:19.146968Z",
     "iopub.status.idle": "2024-05-14T04:17:19.171523Z",
     "shell.execute_reply": "2024-05-14T04:17:19.169482Z"
    },
    "papermill": {
     "duration": 0.035109,
     "end_time": "2024-05-14T04:17:19.174080",
     "exception": false,
     "start_time": "2024-05-14T04:17:19.138971",
     "status": "completed"
    },
    "tags": []
   },
   "outputs": [],
   "source": [
    "train = train.dropna(subset=['text'])"
   ]
  },
  {
   "cell_type": "code",
   "execution_count": 7,
   "id": "a315520e",
   "metadata": {
    "execution": {
     "iopub.execute_input": "2024-05-14T04:17:19.187982Z",
     "iopub.status.busy": "2024-05-14T04:17:19.187620Z",
     "iopub.status.idle": "2024-05-14T04:17:19.211969Z",
     "shell.execute_reply": "2024-05-14T04:17:19.210294Z"
    },
    "papermill": {
     "duration": 0.034372,
     "end_time": "2024-05-14T04:17:19.214418",
     "exception": false,
     "start_time": "2024-05-14T04:17:19.180046",
     "status": "completed"
    },
    "tags": []
   },
   "outputs": [
    {
     "name": "stdout",
     "output_type": "stream",
     "text": [
      "count     20761.000000\n",
      "mean       4552.715380\n",
      "std        5130.563491\n",
      "min           1.000000\n",
      "25%        1628.000000\n",
      "50%        3361.000000\n",
      "75%        6275.000000\n",
      "max      142961.000000\n",
      "Name: sentence_length, dtype: float64\n"
     ]
    }
   ],
   "source": [
    "train['sentence_length'] = train['text'].apply(len)\n",
    "print(train['sentence_length'].describe())"
   ]
  },
  {
   "cell_type": "markdown",
   "id": "5ea8384c",
   "metadata": {
    "papermill": {
     "duration": 0.005648,
     "end_time": "2024-05-14T04:17:19.226201",
     "exception": false,
     "start_time": "2024-05-14T04:17:19.220553",
     "status": "completed"
    },
    "tags": []
   },
   "source": [
    "# Preprocessing"
   ]
  },
  {
   "cell_type": "code",
   "execution_count": 8,
   "id": "6d67c77d",
   "metadata": {
    "execution": {
     "iopub.execute_input": "2024-05-14T04:17:19.241086Z",
     "iopub.status.busy": "2024-05-14T04:17:19.240682Z",
     "iopub.status.idle": "2024-05-14T04:17:32.381857Z",
     "shell.execute_reply": "2024-05-14T04:17:32.380391Z"
    },
    "papermill": {
     "duration": 13.150811,
     "end_time": "2024-05-14T04:17:32.384103",
     "exception": false,
     "start_time": "2024-05-14T04:17:19.233292",
     "status": "completed"
    },
    "tags": []
   },
   "outputs": [
    {
     "name": "stdout",
     "output_type": "stream",
     "text": [
      "Requirement already satisfied: nltk in /opt/conda/lib/python3.10/site-packages (3.2.4)\r\n",
      "Requirement already satisfied: six in /opt/conda/lib/python3.10/site-packages (from nltk) (1.16.0)\r\n",
      "Note: you may need to restart the kernel to use updated packages.\n"
     ]
    }
   ],
   "source": [
    "! pip install nltk"
   ]
  },
  {
   "cell_type": "code",
   "execution_count": 9,
   "id": "be25337a",
   "metadata": {
    "execution": {
     "iopub.execute_input": "2024-05-14T04:17:32.400241Z",
     "iopub.status.busy": "2024-05-14T04:17:32.399846Z",
     "iopub.status.idle": "2024-05-14T04:17:34.958178Z",
     "shell.execute_reply": "2024-05-14T04:17:34.957042Z"
    },
    "papermill": {
     "duration": 2.569386,
     "end_time": "2024-05-14T04:17:34.959858",
     "exception": false,
     "start_time": "2024-05-14T04:17:32.390472",
     "status": "completed"
    },
    "tags": []
   },
   "outputs": [
    {
     "name": "stdout",
     "output_type": "stream",
     "text": [
      "[nltk_data] Downloading package punkt to /usr/share/nltk_data...\n",
      "[nltk_data]   Package punkt is already up-to-date!\n"
     ]
    },
    {
     "data": {
      "text/plain": [
       "True"
      ]
     },
     "execution_count": 9,
     "metadata": {},
     "output_type": "execute_result"
    }
   ],
   "source": [
    "import string\n",
    "import nltk\n",
    "nltk.download('punkt')"
   ]
  },
  {
   "cell_type": "code",
   "execution_count": 10,
   "id": "b124f1eb",
   "metadata": {
    "execution": {
     "iopub.execute_input": "2024-05-14T04:17:34.974909Z",
     "iopub.status.busy": "2024-05-14T04:17:34.973523Z",
     "iopub.status.idle": "2024-05-14T04:17:35.069301Z",
     "shell.execute_reply": "2024-05-14T04:17:35.068454Z"
    },
    "papermill": {
     "duration": 0.105977,
     "end_time": "2024-05-14T04:17:35.071930",
     "exception": false,
     "start_time": "2024-05-14T04:17:34.965953",
     "status": "completed"
    },
    "tags": []
   },
   "outputs": [],
   "source": [
    "train.drop_duplicates(subset='text', keep='first', inplace=True)"
   ]
  },
  {
   "cell_type": "code",
   "execution_count": 11,
   "id": "bbefddca",
   "metadata": {
    "execution": {
     "iopub.execute_input": "2024-05-14T04:17:35.087120Z",
     "iopub.status.busy": "2024-05-14T04:17:35.086684Z",
     "iopub.status.idle": "2024-05-14T04:17:36.199405Z",
     "shell.execute_reply": "2024-05-14T04:17:36.198017Z"
    },
    "papermill": {
     "duration": 1.123836,
     "end_time": "2024-05-14T04:17:36.202321",
     "exception": false,
     "start_time": "2024-05-14T04:17:35.078485",
     "status": "completed"
    },
    "tags": []
   },
   "outputs": [],
   "source": [
    "train['text'] = train['text'].str.replace(\n",
    "'['+string.punctuation+']', '', regex=True)"
   ]
  },
  {
   "cell_type": "code",
   "execution_count": 12,
   "id": "9a653dc8",
   "metadata": {
    "execution": {
     "iopub.execute_input": "2024-05-14T04:17:36.218114Z",
     "iopub.status.busy": "2024-05-14T04:17:36.217738Z",
     "iopub.status.idle": "2024-05-14T04:17:36.892229Z",
     "shell.execute_reply": "2024-05-14T04:17:36.890388Z"
    },
    "papermill": {
     "duration": 0.685821,
     "end_time": "2024-05-14T04:17:36.894880",
     "exception": false,
     "start_time": "2024-05-14T04:17:36.209059",
     "status": "completed"
    },
    "tags": []
   },
   "outputs": [],
   "source": [
    "train['text'] = train['text'].str.lower()"
   ]
  },
  {
   "cell_type": "code",
   "execution_count": 13,
   "id": "14aea96b",
   "metadata": {
    "execution": {
     "iopub.execute_input": "2024-05-14T04:17:36.909252Z",
     "iopub.status.busy": "2024-05-14T04:17:36.908887Z",
     "iopub.status.idle": "2024-05-14T04:18:34.826817Z",
     "shell.execute_reply": "2024-05-14T04:18:34.825478Z"
    },
    "papermill": {
     "duration": 57.928516,
     "end_time": "2024-05-14T04:18:34.829710",
     "exception": false,
     "start_time": "2024-05-14T04:17:36.901194",
     "status": "completed"
    },
    "tags": []
   },
   "outputs": [],
   "source": [
    "train = train.dropna(subset=['text'])\n",
    "train['text'] = train['text'].astype(str).apply(nltk.word_tokenize)"
   ]
  },
  {
   "cell_type": "markdown",
   "id": "3ce300df",
   "metadata": {
    "papermill": {
     "duration": 0.006153,
     "end_time": "2024-05-14T04:18:34.842530",
     "exception": false,
     "start_time": "2024-05-14T04:18:34.836377",
     "status": "completed"
    },
    "tags": []
   },
   "source": [
    "# SVM"
   ]
  },
  {
   "cell_type": "code",
   "execution_count": 14,
   "id": "ccf368ea",
   "metadata": {
    "execution": {
     "iopub.execute_input": "2024-05-14T04:18:34.857395Z",
     "iopub.status.busy": "2024-05-14T04:18:34.857004Z",
     "iopub.status.idle": "2024-05-14T04:18:34.862574Z",
     "shell.execute_reply": "2024-05-14T04:18:34.860845Z"
    },
    "papermill": {
     "duration": 0.016301,
     "end_time": "2024-05-14T04:18:34.865259",
     "exception": false,
     "start_time": "2024-05-14T04:18:34.848958",
     "status": "completed"
    },
    "tags": []
   },
   "outputs": [],
   "source": [
    "from sklearn.feature_extraction.text import TfidfVectorizer\n",
    "from sklearn import svm\n",
    "from sklearn.metrics import accuracy_score, f1_score, classification_report"
   ]
  },
  {
   "cell_type": "code",
   "execution_count": 15,
   "id": "615a64cf",
   "metadata": {
    "execution": {
     "iopub.execute_input": "2024-05-14T04:18:34.881116Z",
     "iopub.status.busy": "2024-05-14T04:18:34.880755Z",
     "iopub.status.idle": "2024-05-14T04:18:34.886051Z",
     "shell.execute_reply": "2024-05-14T04:18:34.885082Z"
    },
    "papermill": {
     "duration": 0.016339,
     "end_time": "2024-05-14T04:18:34.888252",
     "exception": false,
     "start_time": "2024-05-14T04:18:34.871913",
     "status": "completed"
    },
    "tags": []
   },
   "outputs": [],
   "source": [
    "X_train = train['text']\n",
    "y_train = train['label']"
   ]
  },
  {
   "cell_type": "code",
   "execution_count": 16,
   "id": "acfdd8b1",
   "metadata": {
    "execution": {
     "iopub.execute_input": "2024-05-14T04:18:34.903078Z",
     "iopub.status.busy": "2024-05-14T04:18:34.902532Z",
     "iopub.status.idle": "2024-05-14T04:18:47.749798Z",
     "shell.execute_reply": "2024-05-14T04:18:47.748270Z"
    },
    "papermill": {
     "duration": 12.857529,
     "end_time": "2024-05-14T04:18:47.752512",
     "exception": false,
     "start_time": "2024-05-14T04:18:34.894983",
     "status": "completed"
    },
    "tags": []
   },
   "outputs": [],
   "source": [
    "vectorizer = TfidfVectorizer()\n",
    "X_train = X_train.apply(' '.join)\n",
    "X_train = vectorizer.fit_transform(X_train)"
   ]
  },
  {
   "cell_type": "code",
   "execution_count": 17,
   "id": "a0c1cc10",
   "metadata": {
    "execution": {
     "iopub.execute_input": "2024-05-14T04:18:47.767362Z",
     "iopub.status.busy": "2024-05-14T04:18:47.767003Z",
     "iopub.status.idle": "2024-05-14T04:32:02.419238Z",
     "shell.execute_reply": "2024-05-14T04:32:02.417545Z"
    },
    "papermill": {
     "duration": 794.669605,
     "end_time": "2024-05-14T04:32:02.428647",
     "exception": false,
     "start_time": "2024-05-14T04:18:47.759042",
     "status": "completed"
    },
    "tags": []
   },
   "outputs": [
    {
     "data": {
      "text/html": [
       "<style>#sk-container-id-1 {color: black;background-color: white;}#sk-container-id-1 pre{padding: 0;}#sk-container-id-1 div.sk-toggleable {background-color: white;}#sk-container-id-1 label.sk-toggleable__label {cursor: pointer;display: block;width: 100%;margin-bottom: 0;padding: 0.3em;box-sizing: border-box;text-align: center;}#sk-container-id-1 label.sk-toggleable__label-arrow:before {content: \"▸\";float: left;margin-right: 0.25em;color: #696969;}#sk-container-id-1 label.sk-toggleable__label-arrow:hover:before {color: black;}#sk-container-id-1 div.sk-estimator:hover label.sk-toggleable__label-arrow:before {color: black;}#sk-container-id-1 div.sk-toggleable__content {max-height: 0;max-width: 0;overflow: hidden;text-align: left;background-color: #f0f8ff;}#sk-container-id-1 div.sk-toggleable__content pre {margin: 0.2em;color: black;border-radius: 0.25em;background-color: #f0f8ff;}#sk-container-id-1 input.sk-toggleable__control:checked~div.sk-toggleable__content {max-height: 200px;max-width: 100%;overflow: auto;}#sk-container-id-1 input.sk-toggleable__control:checked~label.sk-toggleable__label-arrow:before {content: \"▾\";}#sk-container-id-1 div.sk-estimator input.sk-toggleable__control:checked~label.sk-toggleable__label {background-color: #d4ebff;}#sk-container-id-1 div.sk-label input.sk-toggleable__control:checked~label.sk-toggleable__label {background-color: #d4ebff;}#sk-container-id-1 input.sk-hidden--visually {border: 0;clip: rect(1px 1px 1px 1px);clip: rect(1px, 1px, 1px, 1px);height: 1px;margin: -1px;overflow: hidden;padding: 0;position: absolute;width: 1px;}#sk-container-id-1 div.sk-estimator {font-family: monospace;background-color: #f0f8ff;border: 1px dotted black;border-radius: 0.25em;box-sizing: border-box;margin-bottom: 0.5em;}#sk-container-id-1 div.sk-estimator:hover {background-color: #d4ebff;}#sk-container-id-1 div.sk-parallel-item::after {content: \"\";width: 100%;border-bottom: 1px solid gray;flex-grow: 1;}#sk-container-id-1 div.sk-label:hover label.sk-toggleable__label {background-color: #d4ebff;}#sk-container-id-1 div.sk-serial::before {content: \"\";position: absolute;border-left: 1px solid gray;box-sizing: border-box;top: 0;bottom: 0;left: 50%;z-index: 0;}#sk-container-id-1 div.sk-serial {display: flex;flex-direction: column;align-items: center;background-color: white;padding-right: 0.2em;padding-left: 0.2em;position: relative;}#sk-container-id-1 div.sk-item {position: relative;z-index: 1;}#sk-container-id-1 div.sk-parallel {display: flex;align-items: stretch;justify-content: center;background-color: white;position: relative;}#sk-container-id-1 div.sk-item::before, #sk-container-id-1 div.sk-parallel-item::before {content: \"\";position: absolute;border-left: 1px solid gray;box-sizing: border-box;top: 0;bottom: 0;left: 50%;z-index: -1;}#sk-container-id-1 div.sk-parallel-item {display: flex;flex-direction: column;z-index: 1;position: relative;background-color: white;}#sk-container-id-1 div.sk-parallel-item:first-child::after {align-self: flex-end;width: 50%;}#sk-container-id-1 div.sk-parallel-item:last-child::after {align-self: flex-start;width: 50%;}#sk-container-id-1 div.sk-parallel-item:only-child::after {width: 0;}#sk-container-id-1 div.sk-dashed-wrapped {border: 1px dashed gray;margin: 0 0.4em 0.5em 0.4em;box-sizing: border-box;padding-bottom: 0.4em;background-color: white;}#sk-container-id-1 div.sk-label label {font-family: monospace;font-weight: bold;display: inline-block;line-height: 1.2em;}#sk-container-id-1 div.sk-label-container {text-align: center;}#sk-container-id-1 div.sk-container {/* jupyter's `normalize.less` sets `[hidden] { display: none; }` but bootstrap.min.css set `[hidden] { display: none !important; }` so we also need the `!important` here to be able to override the default hidden behavior on the sphinx rendered scikit-learn.org. See: https://github.com/scikit-learn/scikit-learn/issues/21755 */display: inline-block !important;position: relative;}#sk-container-id-1 div.sk-text-repr-fallback {display: none;}</style><div id=\"sk-container-id-1\" class=\"sk-top-container\"><div class=\"sk-text-repr-fallback\"><pre>SVC(C=10, gamma=0.1)</pre><b>In a Jupyter environment, please rerun this cell to show the HTML representation or trust the notebook. <br />On GitHub, the HTML representation is unable to render, please try loading this page with nbviewer.org.</b></div><div class=\"sk-container\" hidden><div class=\"sk-item\"><div class=\"sk-estimator sk-toggleable\"><input class=\"sk-toggleable__control sk-hidden--visually\" id=\"sk-estimator-id-1\" type=\"checkbox\" checked><label for=\"sk-estimator-id-1\" class=\"sk-toggleable__label sk-toggleable__label-arrow\">SVC</label><div class=\"sk-toggleable__content\"><pre>SVC(C=10, gamma=0.1)</pre></div></div></div></div></div>"
      ],
      "text/plain": [
       "SVC(C=10, gamma=0.1)"
      ]
     },
     "execution_count": 17,
     "metadata": {},
     "output_type": "execute_result"
    }
   ],
   "source": [
    "clf = svm.SVC(\n",
    "    C = 10,\n",
    "    gamma = 0.1,\n",
    "    kernel='rbf'\n",
    ")\n",
    "clf.fit(X_train, y_train)"
   ]
  },
  {
   "cell_type": "code",
   "execution_count": 18,
   "id": "33a4be6f",
   "metadata": {
    "execution": {
     "iopub.execute_input": "2024-05-14T04:32:02.443238Z",
     "iopub.status.busy": "2024-05-14T04:32:02.442839Z",
     "iopub.status.idle": "2024-05-14T04:36:23.776678Z",
     "shell.execute_reply": "2024-05-14T04:36:23.775096Z"
    },
    "papermill": {
     "duration": 261.349218,
     "end_time": "2024-05-14T04:36:23.784240",
     "exception": false,
     "start_time": "2024-05-14T04:32:02.435022",
     "status": "completed"
    },
    "tags": []
   },
   "outputs": [
    {
     "name": "stdout",
     "output_type": "stream",
     "text": [
      "              precision    recall  f1-score   support\n",
      "\n",
      "           0       1.00      1.00      1.00     10387\n",
      "           1       1.00      1.00      1.00      9999\n",
      "\n",
      "    accuracy                           1.00     20386\n",
      "   macro avg       1.00      1.00      1.00     20386\n",
      "weighted avg       1.00      1.00      1.00     20386\n",
      "\n"
     ]
    }
   ],
   "source": [
    "# Training performance\n",
    "y_train_pred = clf.predict(X_train)\n",
    "print(classification_report(y_train, y_train_pred))"
   ]
  },
  {
   "cell_type": "code",
   "execution_count": 19,
   "id": "d8f0f26a",
   "metadata": {
    "execution": {
     "iopub.execute_input": "2024-05-14T04:36:23.799066Z",
     "iopub.status.busy": "2024-05-14T04:36:23.798660Z",
     "iopub.status.idle": "2024-05-14T04:36:23.805790Z",
     "shell.execute_reply": "2024-05-14T04:36:23.804232Z"
    },
    "papermill": {
     "duration": 0.017619,
     "end_time": "2024-05-14T04:36:23.808244",
     "exception": false,
     "start_time": "2024-05-14T04:36:23.790625",
     "status": "completed"
    },
    "tags": []
   },
   "outputs": [],
   "source": [
    "def preprocess_data(data):\n",
    "    data = data.str.replace('['+string.punctuation+']', '', regex=True)\n",
    "    data= data.str.lower()\n",
    "    data = data.astype(str).apply(nltk.word_tokenize)\n",
    "    data = data.apply(' '.join)\n",
    "    data = vectorizer.transform(data)\n",
    "    return data"
   ]
  },
  {
   "cell_type": "code",
   "execution_count": 20,
   "id": "54ea7765",
   "metadata": {
    "execution": {
     "iopub.execute_input": "2024-05-14T04:36:23.823581Z",
     "iopub.status.busy": "2024-05-14T04:36:23.822951Z",
     "iopub.status.idle": "2024-05-14T04:37:47.470713Z",
     "shell.execute_reply": "2024-05-14T04:37:47.468382Z"
    },
    "papermill": {
     "duration": 83.659007,
     "end_time": "2024-05-14T04:37:47.473933",
     "exception": false,
     "start_time": "2024-05-14T04:36:23.814926",
     "status": "completed"
    },
    "tags": []
   },
   "outputs": [],
   "source": [
    "X_test = preprocess_data(test['text'])\n",
    "id_test = test['id']\n",
    "y_test_pred = clf.predict(X_test)"
   ]
  },
  {
   "cell_type": "code",
   "execution_count": 21,
   "id": "22a12fcf",
   "metadata": {
    "execution": {
     "iopub.execute_input": "2024-05-14T04:37:47.491795Z",
     "iopub.status.busy": "2024-05-14T04:37:47.490314Z",
     "iopub.status.idle": "2024-05-14T04:37:47.506450Z",
     "shell.execute_reply": "2024-05-14T04:37:47.505096Z"
    },
    "papermill": {
     "duration": 0.027094,
     "end_time": "2024-05-14T04:37:47.509019",
     "exception": false,
     "start_time": "2024-05-14T04:37:47.481925",
     "status": "completed"
    },
    "tags": []
   },
   "outputs": [],
   "source": [
    "# Create a DataFrame\n",
    "submission_df = pd.DataFrame({'id': id_test, 'label': y_test_pred})\n",
    "# Save the DataFrame to a CSV file\n",
    "submission_df.to_csv('submission.csv', index=False)\n"
   ]
  },
  {
   "cell_type": "code",
   "execution_count": 22,
   "id": "6c741a05",
   "metadata": {
    "execution": {
     "iopub.execute_input": "2024-05-14T04:37:47.525209Z",
     "iopub.status.busy": "2024-05-14T04:37:47.523564Z",
     "iopub.status.idle": "2024-05-14T04:37:47.551943Z",
     "shell.execute_reply": "2024-05-14T04:37:47.550679Z"
    },
    "papermill": {
     "duration": 0.039435,
     "end_time": "2024-05-14T04:37:47.555174",
     "exception": false,
     "start_time": "2024-05-14T04:37:47.515739",
     "status": "completed"
    },
    "tags": []
   },
   "outputs": [
    {
     "data": {
      "text/plain": [
       "['svm_model.joblib']"
      ]
     },
     "execution_count": 22,
     "metadata": {},
     "output_type": "execute_result"
    }
   ],
   "source": [
    "from joblib import dump\n",
    "dump(clf, 'svm_model.joblib')"
   ]
  }
 ],
 "metadata": {
  "kaggle": {
   "accelerator": "none",
   "dataSources": [
    {
     "databundleVersionId": 109592,
     "sourceId": 8317,
     "sourceType": "competition"
    }
   ],
   "dockerImageVersionId": 30698,
   "isGpuEnabled": false,
   "isInternetEnabled": true,
   "language": "python",
   "sourceType": "notebook"
  },
  "kernelspec": {
   "display_name": "Python 3",
   "language": "python",
   "name": "python3"
  },
  "language_info": {
   "codemirror_mode": {
    "name": "ipython",
    "version": 3
   },
   "file_extension": ".py",
   "mimetype": "text/x-python",
   "name": "python",
   "nbconvert_exporter": "python",
   "pygments_lexer": "ipython3",
   "version": "3.10.13"
  },
  "papermill": {
   "default_parameters": {},
   "duration": 1237.086065,
   "end_time": "2024-05-14T04:37:48.892821",
   "environment_variables": {},
   "exception": null,
   "input_path": "__notebook__.ipynb",
   "output_path": "__notebook__.ipynb",
   "parameters": {},
   "start_time": "2024-05-14T04:17:11.806756",
   "version": "2.5.0"
  }
 },
 "nbformat": 4,
 "nbformat_minor": 5
}
